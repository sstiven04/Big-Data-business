{
  "nbformat": 4,
  "nbformat_minor": 0,
  "metadata": {
    "colab": {
      "provenance": []
    },
    "kernelspec": {
      "name": "python3",
      "display_name": "Python 3"
    },
    "language_info": {
      "name": "python"
    }
  },
  "cells": [
    {
      "cell_type": "code",
      "source": [
        "def par_impar(a,b=2):\n",
        "\n",
        "  suma = a+b\n",
        "\n",
        "  if type (a) == int and type(b) == int:\n",
        "   if suma % 2 == 0:\n",
        "    print(f\"El número {suma} es par.\")\n",
        "   else:\n",
        "    print(f\"El número {suma} es impar.\")\n",
        "  else:\n",
        "    print(f\"Los datos integrados deben ser enteros\")"
      ],
      "metadata": {
        "id": "aqMpQ_hAMaD1"
      },
      "execution_count": 18,
      "outputs": []
    },
    {
      "cell_type": "code",
      "source": [
        "par_impar(4,8)"
      ],
      "metadata": {
        "colab": {
          "base_uri": "https://localhost:8080/"
        },
        "id": "mJK4o4fUbRxb",
        "outputId": "57abe037-dddb-451c-cf98-5ebb1a89052f"
      },
      "execution_count": 19,
      "outputs": [
        {
          "output_type": "stream",
          "name": "stdout",
          "text": [
            "El número 12 es par.\n"
          ]
        }
      ]
    },
    {
      "cell_type": "code",
      "source": [
        "MiVariable = 4 #upper camel case\n",
        "miVariable = 2 #lower camel case\n",
        "mi_variable = 1 #snake case"
      ],
      "metadata": {
        "id": "wRast9zWNTxX"
      },
      "execution_count": 5,
      "outputs": []
    },
    {
      "cell_type": "code",
      "source": [
        "def div_sum_entero (a, b, c):\n",
        "\n",
        "  if type (a) == int and type(b) == int and type(c) == int:\n",
        "    suma = a+b\n",
        "    if c!=0:\n",
        "      print(suma/c)\n",
        "    else:\n",
        "      print(\"No es posible ejecutar\")\n",
        "  else:\n",
        "    print(\"Todos los números deben ser enteros\")"
      ],
      "metadata": {
        "id": "Z806t0zAjxu2"
      },
      "execution_count": 29,
      "outputs": []
    },
    {
      "cell_type": "code",
      "source": [
        "div_sum_entero (6,9,3)"
      ],
      "metadata": {
        "colab": {
          "base_uri": "https://localhost:8080/"
        },
        "id": "0JbHFwnsoP_t",
        "outputId": "6448c330-d702-4590-a0f1-95bb09c81015"
      },
      "execution_count": 30,
      "outputs": [
        {
          "output_type": "stream",
          "name": "stdout",
          "text": [
            "5.0\n"
          ]
        }
      ]
    }
  ]
}