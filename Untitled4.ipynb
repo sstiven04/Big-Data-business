{
  "nbformat": 4,
  "nbformat_minor": 0,
  "metadata": {
    "colab": {
      "provenance": [],
      "authorship_tag": "ABX9TyOPgrrjQb47Rul2g5w7t9SR",
      "include_colab_link": true
    },
    "kernelspec": {
      "name": "python3",
      "display_name": "Python 3"
    },
    "language_info": {
      "name": "python"
    }
  },
  "cells": [
    {
      "cell_type": "markdown",
      "metadata": {
        "id": "view-in-github",
        "colab_type": "text"
      },
      "source": [
        "<a href=\"https://colab.research.google.com/github/sstiven04/Big-Data-business/blob/main/Untitled4.ipynb\" target=\"_parent\"><img src=\"https://colab.research.google.com/assets/colab-badge.svg\" alt=\"Open In Colab\"/></a>"
      ]
    },
    {
      "cell_type": "markdown",
      "source": [
        "Punto 10"
      ],
      "metadata": {
        "id": "i8G0ipaIh32Y"
      }
    },
    {
      "cell_type": "code",
      "source": [
        "def fibonacci(n):\n",
        "    fib_series = []\n",
        "    a, b = 0, 1\n",
        "    for _ in range(n):\n",
        "        fib_series.append(a)\n",
        "        a, b = b, a + b\n",
        "    return fib_series\n",
        "\n",
        "try:\n",
        "    num_terminos = int(input(\"Ingrese el número de términos de la serie de Fibonacci que desea generar: \"))\n",
        "    if num_terminos <= 0:\n",
        "        print(\"Por favor, ingrese un número válido mayor a cero.\")\n",
        "    else:\n",
        "        resultado = fibonacci(num_terminos)\n",
        "        print(f\"Los primeros {num_terminos} términos de la serie de Fibonacci son:\")\n",
        "        print(resultado)\n",
        "except ValueError:\n",
        "    print(\"Por favor, ingrese un número válido.\")\n"
      ],
      "metadata": {
        "colab": {
          "base_uri": "https://localhost:8080/"
        },
        "id": "O0O8AIc1xD_z",
        "outputId": "c52f5862-1f87-4729-8796-e3c4efc5a487"
      },
      "execution_count": null,
      "outputs": [
        {
          "output_type": "stream",
          "name": "stdout",
          "text": [
            "Ingrese el número de términos de la serie de Fibonacci que desea generar: 3\n",
            "Los primeros 3 términos de la serie de Fibonacci son:\n",
            "[0, 1, 1]\n"
          ]
        }
      ]
    },
    {
      "cell_type": "markdown",
      "source": [
        "Punto 13"
      ],
      "metadata": {
        "id": "Bh0WuBkqmirY"
      }
    },
    {
      "cell_type": "code",
      "source": [
        "def dolares_a_euros(dolares, tasa_cambio):\n",
        "    euros = dolares * tasa_cambio\n",
        "    return euros\n",
        "\n",
        "# Tasa de cambio: 1 dólar = 0.85 euros (valor ficticio)\n",
        "tasa_de_cambio = 0.85\n",
        "\n",
        "try:\n",
        "    cantidad_dolares = float(input(\"Ingresa la cantidad en dólares que deseas convertir a euros: \"))\n",
        "    cantidad_euros = dolares_a_euros(cantidad_dolares, tasa_de_cambio)\n",
        "    print(f\"{cantidad_dolares} dólares equivalen a {cantidad_euros:.2f} euros.\")\n",
        "except ValueError:\n",
        "    print(\"Por favor, ingresa una cantidad válida en dólares.\")"
      ],
      "metadata": {
        "colab": {
          "base_uri": "https://localhost:8080/"
        },
        "id": "IwhAPm_rmlRW",
        "outputId": "d7c2b135-406a-4990-d1ff-0d7fd8332d89"
      },
      "execution_count": null,
      "outputs": [
        {
          "output_type": "stream",
          "name": "stdout",
          "text": [
            "Ingresa la cantidad en dólares que deseas convertir a euros: 10\n",
            "10.0 dólares equivalen a 8.50 euros.\n"
          ]
        }
      ]
    },
    {
      "cell_type": "markdown",
      "source": [
        "Punto 14"
      ],
      "metadata": {
        "id": "Y4tnExg0nT-z"
      }
    },
    {
      "cell_type": "code",
      "source": [
        "def calcular_factorial(numero):\n",
        "    if numero == 0 or numero == 1:\n",
        "        return 1\n",
        "    else:\n",
        "        factorial = 1\n",
        "        for i in range(2, numero + 1):\n",
        "            factorial *= i\n",
        "        return factorial\n",
        "\n",
        "try:\n",
        "    numero_ingresado = int(input(\"Ingresa un número para calcular su factorial: \"))\n",
        "    if numero_ingresado < 0:\n",
        "        print(\"El factorial no está definido para números negativos.\")\n",
        "    else:\n",
        "        resultado_factorial = calcular_factorial(numero_ingresado)\n",
        "        print(f\"El factorial de {numero_ingresado} es {resultado_factorial}\")\n",
        "except ValueError:\n",
        "    print(\"Por favor, ingresa un número entero válido.\")\n"
      ],
      "metadata": {
        "colab": {
          "base_uri": "https://localhost:8080/"
        },
        "id": "Z50Brh2BnVWx",
        "outputId": "9c4fe194-0a22-4118-c160-97bd6a542d89"
      },
      "execution_count": null,
      "outputs": [
        {
          "output_type": "stream",
          "name": "stdout",
          "text": [
            "Ingresa un número para calcular su factorial: 8\n",
            "El factorial de 8 es 40320\n"
          ]
        }
      ]
    },
    {
      "cell_type": "markdown",
      "source": [
        "Punto 16"
      ],
      "metadata": {
        "id": "mlSKWukqode8"
      }
    },
    {
      "cell_type": "code",
      "source": [
        "def calcular_numeros_triangulares(n):\n",
        "    numeros_triangulares = []\n",
        "    suma = 0\n",
        "    for i in range(1, n + 1):\n",
        "        suma += i\n",
        "        numeros_triangulares.append(suma)\n",
        "    return numeros_triangulares\n",
        "\n",
        "try:\n",
        "    n = int(input(\"Ingresa la cantidad de números triangulares que deseas calcular y mostrar: \"))\n",
        "    if n <= 0:\n",
        "        print(\"Por favor, ingresa un número válido mayor a cero.\")\n",
        "    else:\n",
        "        triangulares = calcular_numeros_triangulares(n)\n",
        "        print(f\"Los primeros {n} números triangulares son:\")\n",
        "        print(triangulares)\n",
        "except ValueError:\n",
        "    print(\"Por favor, ingresa un número entero válido.\")\n"
      ],
      "metadata": {
        "colab": {
          "base_uri": "https://localhost:8080/"
        },
        "id": "lupaGEHeofRt",
        "outputId": "2be08c48-27f7-43fd-c3c2-84e31aa8a519"
      },
      "execution_count": null,
      "outputs": [
        {
          "output_type": "stream",
          "name": "stdout",
          "text": [
            "Ingresa la cantidad de números triangulares que deseas calcular y mostrar: 3\n",
            "Los primeros 3 números triangulares son:\n",
            "[1, 3, 6]\n"
          ]
        }
      ]
    },
    {
      "cell_type": "markdown",
      "source": [
        "Punto 20"
      ],
      "metadata": {
        "id": "JCztoug4pM_W"
      }
    },
    {
      "cell_type": "code",
      "source": [],
      "metadata": {
        "id": "8T_UpCDMpOfR"
      },
      "execution_count": null,
      "outputs": []
    }
  ]
}